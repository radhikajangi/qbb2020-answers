{
 "cells": [
  {
   "cell_type": "code",
   "execution_count": 11,
   "metadata": {},
   "outputs": [],
   "source": [
    "import pandas as pd\n",
    "import numpy as np"
   ]
  },
  {
   "cell_type": "code",
   "execution_count": 14,
   "metadata": {},
   "outputs": [],
   "source": [
    "def dict_maker(num):\n",
    "    f = open(\"/Users/cmdb/qbb2020-answers/week10/week13_data/KRAKEN/SRR4921\"+num+\".kraken\")\n",
    "    kraken = f.readlines()\n",
    "    f.close()\n",
    "    \n",
    "    day_temp = {}\n",
    "    for line in kraken:\n",
    "        key = line.split('\\t')[1]\n",
    "        day_temp.setdefault(key,0)\n",
    "        day_temp[key] += 1\n",
    "    \n",
    "    #return day_temp\n",
    "    f = open(\"/Users/cmdb/qbb2020-answers/week10/week13_data/KRAKEN/day\"+num+\".kraken\",'w')\n",
    "    for key,val in day_temp.items():\n",
    "        x = key.split(';')\n",
    "        f.write(str(val) + '\\t')\n",
    "        for y in x[:-1]:\n",
    "            f.write(y+'\\t')\n",
    "        f.write(x[-1])\n",
    "    f.close()  "
   ]
  },
  {
   "cell_type": "code",
   "execution_count": 15,
   "metadata": {},
   "outputs": [],
   "source": [
    "# kraken_83 = dict_maker('83')\n",
    "# kraken_86 = dict_maker('86')\n",
    "# kraken_88 = dict_maker('88')\n",
    "# kraken_89 = dict_maker('89')\n",
    "# kraken_90 = dict_maker('90')\n",
    "# kraken_93 = dict_maker('93')\n",
    "# kraken_94 = dict_maker('94')\n",
    "# kraken_97 = dict_maker('97')\n",
    "kraken_list = ['83','86','88','89','90','93','94','97']\n",
    "for krak in kraken_list:\n",
    "    dict_maker(krak)"
   ]
  },
  {
   "cell_type": "markdown",
   "metadata": {},
   "source": [
    "### Question 3:\n",
    "a. 6 bins\n",
    "b. "
   ]
  },
  {
   "cell_type": "markdown",
   "metadata": {},
   "source": [
    "jgi_summarize_bam_contig_depths --outputDepth depth.txt *.sorted.bam\n",
    "\n",
    "metabat2 -i week13_data/assembly.fasta -a depth.txt -o week13_data/mybins"
   ]
  },
  {
   "cell_type": "markdown",
   "metadata": {},
   "source": [
    "### Question 3:\n",
    "a. 6 bins\n",
    "b. "
   ]
  },
  {
   "cell_type": "markdown",
   "metadata": {},
   "source": [
    "### Question 3:\n",
    "a. 6 bins\n",
    "b. "
   ]
  },
  {
   "cell_type": "code",
   "execution_count": null,
   "metadata": {},
   "outputs": [],
   "source": []
  }
 ],
 "metadata": {
  "kernelspec": {
   "display_name": "Python 3",
   "language": "python",
   "name": "python3"
  },
  "language_info": {
   "codemirror_mode": {
    "name": "ipython",
    "version": 3
   },
   "file_extension": ".py",
   "mimetype": "text/x-python",
   "name": "python",
   "nbconvert_exporter": "python",
   "pygments_lexer": "ipython3",
   "version": "3.6.10"
  }
 },
 "nbformat": 4,
 "nbformat_minor": 4
}
