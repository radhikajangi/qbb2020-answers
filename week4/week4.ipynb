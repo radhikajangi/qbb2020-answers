{
 "cells": [
  {
   "cell_type": "markdown",
   "metadata": {},
   "source": [
    "## Week 4: Sequence alignment and evolution\n",
    "### Radhika Jangi 10/11/2020"
   ]
  },
  {
   "cell_type": "code",
   "execution_count": 2,
   "metadata": {},
   "outputs": [],
   "source": [
    "# Import statements\n",
    "import numpy as np\n",
    "import matplotlib.pyplot as plt\n",
    "import pandas as pd\n",
    "import math\n",
    "from scipy import stats\n",
    "from statsmodels.stats import weightstats as stests"
   ]
  },
  {
   "cell_type": "code",
   "execution_count": 4,
   "metadata": {},
   "outputs": [],
   "source": [
    "# Mike's fasta reading class for dictionary creation\n",
    "from fasta_iterator_class import FASTAReader"
   ]
  },
  {
   "cell_type": "markdown",
   "metadata": {},
   "source": [
    "### 1. BLAST search\n",
    "See uploaded screenshot of changed blastn parameters"
   ]
  },
  {
   "cell_type": "markdown",
   "metadata": {},
   "source": [
    "### 2. Multiple sequence alignment"
   ]
  },
  {
   "cell_type": "markdown",
   "metadata": {},
   "source": [
    "Commands for translating nucleotide sequences to amino acid and for multiple sequence alignment\n",
    ">transeq seqdump.txt outseq.txt<br/>\n",
    "mafft outseq.txt > aligned_prot.fa"
   ]
  },
  {
   "cell_type": "markdown",
   "metadata": {},
   "source": [
    "### 3. Converting back to nucleotides\n",
    "Here, we created a dictionary with the key = sequence id, and the value = a list containing the aligned nucleotide  and amino acid sequences"
   ]
  },
  {
   "cell_type": "code",
   "execution_count": 5,
   "metadata": {},
   "outputs": [],
   "source": [
    "def dict_maker(aa_file, nuc_file):\n",
    "    seq_dict = {}\n",
    "    aa_seq = FASTAReader(open(aa_file))  # FASTAreader is able to create tuples with id and sequence\n",
    "    nuc_seq = FASTAReader(open(nuc_file)) # which is key to dictionary creation\n",
    "\n",
    "    for seq_id,nuc_sequence in nuc_seq:\n",
    "        seq_id_split = seq_id.split()\n",
    "        add_underscore = str(seq_id_split[0]) + '_1' # add _ to first element so it matches seq id\n",
    "        seq_id_split[0] = add_underscore # Replaces first element to new string with underscore\n",
    "        new_seq_id = ' '.join(seq_id_split) # Rejoins list into string\n",
    "        seq_dict.setdefault(new_seq_id,[nuc_sequence]) # New key,val with just nuc sequence\n",
    "    \n",
    "    for seq_id,aa_sequence in aa_seq:\n",
    "        seq_dict[seq_id].append(aa_sequence) # Append aa seq to val list\n",
    "    \n",
    "    return seq_dict"
   ]
  },
  {
   "cell_type": "code",
   "execution_count": 6,
   "metadata": {},
   "outputs": [],
   "source": [
    "seq_dict = dict_maker('aligned_prot.fa','seqdump.txt') # Create dictionary with our files"
   ]
  },
  {
   "cell_type": "code",
   "execution_count": 7,
   "metadata": {},
   "outputs": [],
   "source": [
    "# Here we add gaps in our nucleotide sequences based on the gapping in the amino acid sequences\n",
    "for key, value in seq_dict.items():\n",
    "    # Key = seq id, value = [DNA,Amino Acids]\n",
    "    count = 0\n",
    "    res = list(value[0]) # value[0] = nuc seq\n",
    "    for i in range(len(value[1])): # value[1] = amino acid seq\n",
    "        if value[1][i] == '-':\n",
    "            res.insert((count), '---') # 3 nuc gap for single aa gap\n",
    "            res2 = ''.join(res)\n",
    "            res = list(res2)\n",
    "        count = count+3\n",
    "    value[0] = ''.join(res) # Replaces ungapped nuc acid seq with gapped one     "
   ]
  },
  {
   "cell_type": "markdown",
   "metadata": {},
   "source": [
    "### 4. Looking for selection\n",
    "Here we start to calculate the dN and dS values for each codon in our original sequence"
   ]
  },
  {
   "cell_type": "code",
   "execution_count": 7,
   "metadata": {
    "scrolled": true
   },
   "outputs": [],
   "source": [
    "codontable = {\n",
    "'ATA':'I', 'ATC':'I', 'ATT':'I', 'ATG':'M',\n",
    "'ACA':'T', 'ACC':'T', 'ACG':'T', 'ACT':'T',\n",
    "'AAC':'N', 'AAT':'N', 'AAA':'K', 'AAG':'K',\n",
    "'AGC':'S', 'AGT':'S', 'AGA':'R', 'AGG':'R',\n",
    "'CTA':'L', 'CTC':'L', 'CTG':'L', 'CTT':'L',\n",
    "'CCA':'P', 'CCC':'P', 'CCG':'P', 'CCT':'P',\n",
    "'CAC':'H', 'CAT':'H', 'CAA':'Q', 'CAG':'Q',\n",
    "'CGA':'R', 'CGC':'R', 'CGG':'R', 'CGT':'R',\n",
    "'GTA':'V', 'GTC':'V', 'GTG':'V', 'GTT':'V',\n",
    "'GCA':'A', 'GCC':'A', 'GCG':'A', 'GCT':'A',\n",
    "'GAC':'D', 'GAT':'D', 'GAA':'E', 'GAG':'E',\n",
    "'GGA':'G', 'GGC':'G', 'GGG':'G', 'GGT':'G',\n",
    "'TCA':'S', 'TCC':'S', 'TCG':'S', 'TCT':'S',\n",
    "'TTC':'F', 'TTT':'F', 'TTA':'L', 'TTG':'L',\n",
    "'TAC':'Y', 'TAT':'Y', 'TAA':'_', 'TAG':'_',\n",
    "'TGC':'C', 'TGT':'C', 'TGA':'_', 'TGG':'W'\n",
    "}"
   ]
  },
  {
   "cell_type": "code",
   "execution_count": 74,
   "metadata": {},
   "outputs": [],
   "source": [
    "# Pull our query sequences out of our dictionary b/c they've already been gapped and backtranslated\n",
    "query = seq_dict['NC_001563.2_1 West Nile virus lineage 2, complete genome']\n",
    "nuc_ref = query[0]\n",
    "aa_ref = query[1]"
   ]
  },
  {
   "cell_type": "code",
   "execution_count": 9,
   "metadata": {},
   "outputs": [],
   "source": [
    "'''Calculate dS/dN for each position in \n",
    "seqs relative to position in query'''\n",
    "\n",
    "ds_vals = []\n",
    "dn_vals = []\n",
    "\n",
    "for i in range(0,len(nuc_ref),3): \n",
    "    if nuc_ref[i] == '-': # nuc_ref[i] = a 3 nuc codon\n",
    "        continue\n",
    "    else:\n",
    "        dS = 0\n",
    "        dN = 0\n",
    "        for names, seqs in seq_dict.items():\n",
    "\n",
    "            if nuc_ref[i:i+3] == seqs[0][i:i+3]: # If no difference in codon, we skip\n",
    "                continue\n",
    "                \n",
    "            elif seqs[0][i:i+3] == '---': # Skip gaps\n",
    "                continue\n",
    "                \n",
    "            else: \n",
    "\n",
    "                if seqs[0][i:i+3] not in codontable: # We can't calculate dS or dN for a codon that doesn't exist\n",
    "                    continue\n",
    "                else:\n",
    "                    if codontable[nuc_ref[i:i+3]] == codontable[seqs[0][i:i+3]]: # Synonymous mutation\n",
    "                        dS+=1\n",
    "                    else:\n",
    "                        dN+=1 # Non-synonymous mutation\n",
    "        ds_vals.append(dS)\n",
    "        dn_vals.append(dN)"
   ]
  },
  {
   "cell_type": "markdown",
   "metadata": {},
   "source": [
    "Here are the hypotheses for our z-test\n",
    "$$ H0: dN-dS = 0 $$\n",
    "$$ H1: dN-dS != 0 $$\n",
    "$$ alpha = 0.05 $$"
   ]
  },
  {
   "cell_type": "code",
   "execution_count": 52,
   "metadata": {},
   "outputs": [
    {
     "data": {
      "text/html": [
       "<div>\n",
       "<style scoped>\n",
       "    .dataframe tbody tr th:only-of-type {\n",
       "        vertical-align: middle;\n",
       "    }\n",
       "\n",
       "    .dataframe tbody tr th {\n",
       "        vertical-align: top;\n",
       "    }\n",
       "\n",
       "    .dataframe thead th {\n",
       "        text-align: right;\n",
       "    }\n",
       "</style>\n",
       "<table border=\"1\" class=\"dataframe\">\n",
       "  <thead>\n",
       "    <tr style=\"text-align: right;\">\n",
       "      <th></th>\n",
       "      <th>DN</th>\n",
       "      <th>DS</th>\n",
       "      <th>dn_df</th>\n",
       "      <th>D</th>\n",
       "    </tr>\n",
       "  </thead>\n",
       "  <tbody>\n",
       "    <tr>\n",
       "      <th>0</th>\n",
       "      <td>160</td>\n",
       "      <td>36</td>\n",
       "      <td>4.444444</td>\n",
       "      <td>124</td>\n",
       "    </tr>\n",
       "    <tr>\n",
       "      <th>1</th>\n",
       "      <td>50</td>\n",
       "      <td>13</td>\n",
       "      <td>3.846154</td>\n",
       "      <td>37</td>\n",
       "    </tr>\n",
       "    <tr>\n",
       "      <th>2</th>\n",
       "      <td>200</td>\n",
       "      <td>7</td>\n",
       "      <td>28.571429</td>\n",
       "      <td>193</td>\n",
       "    </tr>\n",
       "    <tr>\n",
       "      <th>3</th>\n",
       "      <td>212</td>\n",
       "      <td>2</td>\n",
       "      <td>106.000000</td>\n",
       "      <td>210</td>\n",
       "    </tr>\n",
       "    <tr>\n",
       "      <th>5</th>\n",
       "      <td>212</td>\n",
       "      <td>10</td>\n",
       "      <td>21.200000</td>\n",
       "      <td>202</td>\n",
       "    </tr>\n",
       "    <tr>\n",
       "      <th>...</th>\n",
       "      <td>...</td>\n",
       "      <td>...</td>\n",
       "      <td>...</td>\n",
       "      <td>...</td>\n",
       "    </tr>\n",
       "    <tr>\n",
       "      <th>3649</th>\n",
       "      <td>709</td>\n",
       "      <td>29</td>\n",
       "      <td>24.448276</td>\n",
       "      <td>680</td>\n",
       "    </tr>\n",
       "    <tr>\n",
       "      <th>3650</th>\n",
       "      <td>759</td>\n",
       "      <td>7</td>\n",
       "      <td>108.428571</td>\n",
       "      <td>752</td>\n",
       "    </tr>\n",
       "    <tr>\n",
       "      <th>3651</th>\n",
       "      <td>747</td>\n",
       "      <td>5</td>\n",
       "      <td>149.400000</td>\n",
       "      <td>742</td>\n",
       "    </tr>\n",
       "    <tr>\n",
       "      <th>3652</th>\n",
       "      <td>732</td>\n",
       "      <td>16</td>\n",
       "      <td>45.750000</td>\n",
       "      <td>716</td>\n",
       "    </tr>\n",
       "    <tr>\n",
       "      <th>3653</th>\n",
       "      <td>662</td>\n",
       "      <td>17</td>\n",
       "      <td>38.941176</td>\n",
       "      <td>645</td>\n",
       "    </tr>\n",
       "  </tbody>\n",
       "</table>\n",
       "<p>3156 rows × 4 columns</p>\n",
       "</div>"
      ],
      "text/plain": [
       "       DN  DS       dn_df    D\n",
       "0     160  36    4.444444  124\n",
       "1      50  13    3.846154   37\n",
       "2     200   7   28.571429  193\n",
       "3     212   2  106.000000  210\n",
       "5     212  10   21.200000  202\n",
       "...   ...  ..         ...  ...\n",
       "3649  709  29   24.448276  680\n",
       "3650  759   7  108.428571  752\n",
       "3651  747   5  149.400000  742\n",
       "3652  732  16   45.750000  716\n",
       "3653  662  17   38.941176  645\n",
       "\n",
       "[3156 rows x 4 columns]"
      ]
     },
     "execution_count": 52,
     "metadata": {},
     "output_type": "execute_result"
    }
   ],
   "source": [
    "df = pd.DataFrame(list(zip(dn_vals, ds_vals)), columns =['DN', 'DS']) #zip together two lists (dn and ds) so that \n",
    "# list(zip(dn_vals, ds_vals)\n",
    "df2 = df.loc[df[\"DS\"] != 0]\n",
    "df3 = df2.loc[df[\"DN\"] != 0]\n",
    "df3[\"dn_df\"] = df3['DN']/df['DS'] # Calculate ratio for graphing\n",
    "df3['D'] = df3['DN'] - df3['DS'] # Calculate dN-dS for z test\n",
    "df3"
   ]
  },
  {
   "cell_type": "code",
   "execution_count": 85,
   "metadata": {},
   "outputs": [],
   "source": [
    "pvalues = []\n",
    "z = stats.zscore(df3['D']) # Calculates z scores for each point\n",
    "\n",
    "for i in range(len(df3[\"D\"])):\n",
    "    pvalues.append(stats.norm.sf(abs(z[i]))) # Calculates p-values for each point based on z scores\n",
    "df3[\"pvalues\"] = pvalues # Add to dataframe for plotting"
   ]
  },
  {
   "cell_type": "code",
   "execution_count": 90,
   "metadata": {},
   "outputs": [],
   "source": [
    "xaxis = range(len(df3)) # Renumber axis so it's sequential"
   ]
  },
  {
   "cell_type": "code",
   "execution_count": 3,
   "metadata": {
    "scrolled": true
   },
   "outputs": [
    {
     "ename": "NameError",
     "evalue": "name 'df3' is not defined",
     "output_type": "error",
     "traceback": [
      "\u001b[0;31m---------------------------------------------------------------------------\u001b[0m",
      "\u001b[0;31mNameError\u001b[0m                                 Traceback (most recent call last)",
      "\u001b[0;32m<ipython-input-3-f18e418c2864>\u001b[0m in \u001b[0;36m<module>\u001b[0;34m()\u001b[0m\n\u001b[1;32m      1\u001b[0m \u001b[0mfig\u001b[0m\u001b[0;34m,\u001b[0m \u001b[0max\u001b[0m \u001b[0;34m=\u001b[0m \u001b[0mplt\u001b[0m\u001b[0;34m.\u001b[0m\u001b[0msubplots\u001b[0m\u001b[0;34m(\u001b[0m\u001b[0;34m)\u001b[0m\u001b[0;34m\u001b[0m\u001b[0;34m\u001b[0m\u001b[0m\n\u001b[0;32m----> 2\u001b[0;31m \u001b[0mcolors\u001b[0m \u001b[0;34m=\u001b[0m \u001b[0;34m[\u001b[0m\u001b[0;34m'indigo'\u001b[0m \u001b[0;32mif\u001b[0m \u001b[0mpval\u001b[0m \u001b[0;34m<\u001b[0m \u001b[0;36m0.025\u001b[0m \u001b[0;32melse\u001b[0m \u001b[0;34m'None'\u001b[0m \u001b[0;32mfor\u001b[0m \u001b[0mpval\u001b[0m \u001b[0;32min\u001b[0m \u001b[0mdf3\u001b[0m\u001b[0;34m[\u001b[0m\u001b[0;34m'pvalues'\u001b[0m\u001b[0;34m]\u001b[0m\u001b[0;34m]\u001b[0m\u001b[0;34m\u001b[0m\u001b[0;34m\u001b[0m\u001b[0m\n\u001b[0m\u001b[1;32m      3\u001b[0m \u001b[0max\u001b[0m\u001b[0;34m.\u001b[0m\u001b[0mscatter\u001b[0m\u001b[0;34m(\u001b[0m\u001b[0mx\u001b[0m \u001b[0;34m=\u001b[0m \u001b[0mxaxis\u001b[0m\u001b[0;34m,\u001b[0m \u001b[0my\u001b[0m \u001b[0;34m=\u001b[0m \u001b[0mdf3\u001b[0m\u001b[0;34m[\u001b[0m\u001b[0;34m'dn_df'\u001b[0m\u001b[0;34m]\u001b[0m\u001b[0;34m,\u001b[0m \u001b[0mcolor\u001b[0m \u001b[0;34m=\u001b[0m \u001b[0;34m'thistle'\u001b[0m\u001b[0;34m)\u001b[0m\u001b[0;34m\u001b[0m\u001b[0;34m\u001b[0m\u001b[0m\n\u001b[1;32m      4\u001b[0m \u001b[0max\u001b[0m\u001b[0;34m.\u001b[0m\u001b[0mscatter\u001b[0m\u001b[0;34m(\u001b[0m\u001b[0mx\u001b[0m \u001b[0;34m=\u001b[0m \u001b[0mxaxis\u001b[0m\u001b[0;34m,\u001b[0m \u001b[0my\u001b[0m \u001b[0;34m=\u001b[0m \u001b[0mdf3\u001b[0m\u001b[0;34m[\u001b[0m\u001b[0;34m'dn_df'\u001b[0m\u001b[0;34m]\u001b[0m\u001b[0;34m,\u001b[0m \u001b[0mcolor\u001b[0m \u001b[0;34m=\u001b[0m \u001b[0mcolors\u001b[0m\u001b[0;34m,\u001b[0m \u001b[0mmarker\u001b[0m\u001b[0;34m=\u001b[0m \u001b[0;34m'*'\u001b[0m\u001b[0;34m)\u001b[0m\u001b[0;34m\u001b[0m\u001b[0;34m\u001b[0m\u001b[0m\n\u001b[1;32m      5\u001b[0m \u001b[0max\u001b[0m\u001b[0;34m.\u001b[0m\u001b[0mset_yscale\u001b[0m\u001b[0;34m(\u001b[0m\u001b[0;34m'log'\u001b[0m\u001b[0;34m,\u001b[0m \u001b[0mbase\u001b[0m\u001b[0;34m=\u001b[0m\u001b[0;36m2\u001b[0m\u001b[0;34m)\u001b[0m\u001b[0;34m\u001b[0m\u001b[0;34m\u001b[0m\u001b[0m\n",
      "\u001b[0;31mNameError\u001b[0m: name 'df3' is not defined"
     ]
    },
    {
     "data": {
      "image/png": "[encoded data removed]",
      "text/plain": [
       "<Figure size 432x288 with 1 Axes>"
      ]
     },
     "metadata": {
      "needs_background": "light"
     },
     "output_type": "display_data"
    }
   ],
   "source": [
    "# Plot ratios along with colored significant points\n",
    "fig, ax = plt.subplots()\n",
    "colors = ['indigo' if pval < 0.025 else 'None' for pval in df3['pvalues']]\n",
    "ax.scatter(x = xaxis, y = df3['dn_df'], color = 'thistle')\n",
    "ax.scatter(x = xaxis, y = df3['dn_df'], color = colors, marker= '*')\n",
    "ax.set_yscale('log', base=2)\n",
    "plt.title('dN/dS Selection by Codon')\n",
    "plt.xlabel('Codon')\n",
    "plt.ylabel('Log2 dN/dS')\n",
    "plt.show()"
   ]
  },
  {
   "cell_type": "markdown",
   "metadata": {},
   "source": [
    "The darker purple stars are the significant points (p-value < 0.05, or 0.025 because this is a two tailed z test)"
   ]
  }
 ],
 "metadata": {
  "kernelspec": {
   "display_name": "Python 3",
   "language": "python",
   "name": "python3"
  },
  "language_info": {
   "codemirror_mode": {
    "name": "ipython",
    "version": 3
   },
   "file_extension": ".py",
   "mimetype": "text/x-python",
   "name": "python",
   "nbconvert_exporter": "python",
   "pygments_lexer": "ipython3",
   "version": "3.6.10"
  }
 },
 "nbformat": 4,
 "nbformat_minor": 4
}
