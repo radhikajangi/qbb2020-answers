{
 "cells": [
  {
   "cell_type": "markdown",
   "metadata": {},
   "source": [
    "## Week 6: DNA Methylation\n",
    "### Radhika Jangi 10/16/2020"
   ]
  },
  {
   "cell_type": "code",
   "execution_count": null,
   "metadata": {},
   "outputs": [],
   "source": []
  },
  {
   "cell_type": "markdown",
   "metadata": {},
   "source": [
    "### 1. Getting data\n",
    "SRR3083926_1.chr6.fastq from STEM-seq E4.0ICM rep1<br/>\n",
    "SRR3083926_2.chr6.fastq from STEM-seq E4.0ICM rep1<br/>\n",
    "SRR3083929_1.chr6.fastq from STEM-seq E5.5Epi rep1<br/>\n",
    "SRR3083929_2.chr6.fastq from STEM-seq E5.5Epi rep1"
   ]
  },
  {
   "cell_type": "markdown",
   "metadata": {},
   "source": [
    "bismark_genome_preparation --bowtie2 chr6<br/>\n",
    "\n",
    "bismark --genome chr6/ -1 SRR3083926_1.chr6.fastq,SRR3083929_1.chr6.fastq -2 SRR3083926_2.chr6.fastq,SRR3083929_2.chr6.fastq<br/>\n",
    "\n",
    "samtools sort SRR3083926_1.chr6_bismark_bt2_pe.bam -o SRR26.sorted.bam<br/>\n",
    "samtools sort SRR3083929_1.chr6_bismark_bt2_pe.bam -o SRR29.sorted.bam<br/>\n",
    "\n",
    "samtools index SRR26.sorted.bam<br/>\n",
    "samtools index SRR29.sorted.bam<br/>"
   ]
  },
  {
   "cell_type": "code",
   "execution_count": 1,
   "metadata": {},
   "outputs": [],
   "source": [
    "f = open('SRR3083926_1.chr6_bismark_bt2_pe.bedGraph', 'r')\n",
    "SRR26 = f.readlines()\n",
    "SRR26 = SRR26[1:]\n",
    "f.close()\n",
    "fs = open('SRR3083929_1.chr6_bismark_bt2_pe.bedGraph', 'r')\n",
    "SRR29 = fs.readlines()\n",
    "SRR29 = SRR29[1:]\n",
    "fs.close()"
   ]
  },
  {
   "cell_type": "code",
   "execution_count": 2,
   "metadata": {},
   "outputs": [
    {
     "data": {
      "text/plain": [
       "['chr6', '49999926', '49999927', '0']"
      ]
     },
     "execution_count": 2,
     "metadata": {},
     "output_type": "execute_result"
    }
   ],
   "source": [
    "SRR26[0].split()"
   ]
  },
  {
   "cell_type": "code",
   "execution_count": 3,
   "metadata": {},
   "outputs": [],
   "source": [
    "f = open('mm10_refseq_genes_chr6_50M_60M.bed', 'r')\n",
    "refseq = f.readlines()\n",
    "f.close()"
   ]
  },
  {
   "cell_type": "code",
   "execution_count": 4,
   "metadata": {},
   "outputs": [],
   "source": [
    "# Keeps unique genes and their coordinates\n",
    "unique_genes = {}\n",
    "for line in refseq:\n",
    "    gene_coord = list(map(int,line.split()[5:7]))\n",
    "    gene_name = line.split()[12]\n",
    "    if gene_name not in unique_genes:\n",
    "        unique_genes[gene_name] = gene_coord"
   ]
  },
  {
   "cell_type": "code",
   "execution_count": 6,
   "metadata": {},
   "outputs": [
    {
     "ename": "SyntaxError",
     "evalue": "invalid syntax (<ipython-input-6-4bfda9e2836d>, line 6)",
     "output_type": "error",
     "traceback": [
      "\u001b[0;36m  File \u001b[0;32m\"<ipython-input-6-4bfda9e2836d>\"\u001b[0;36m, line \u001b[0;32m6\u001b[0m\n\u001b[0;31m    score = float(line.split()[3])\u001b[0m\n\u001b[0m        ^\u001b[0m\n\u001b[0;31mSyntaxError\u001b[0m\u001b[0;31m:\u001b[0m invalid syntax\n"
     ]
    }
   ],
   "source": [
    "def methylation_count(srr, search_range):\n",
    "    meth_score = 0\n",
    "    count = 0\n",
    "    for line in srr:\n",
    "        meth_range = list(map(int,line.split()[1:3])\n",
    "        score = float(line.split()[3])\n",
    "        if meth_range[0]>=search_range[1] and meth_range[1]<=search_range[0]:\n",
    "            count+=1\n",
    "            meth_score+= score\n",
    "    return meth_score/count"
   ]
  },
  {
   "cell_type": "code",
   "execution_count": null,
   "metadata": {},
   "outputs": [],
   "source": [
    "# Maps genes to fold change from e4 to e5.5\n",
    "genes_mfold = {}\n",
    "for gene, coords in unique_genes.items():\n",
    "    e4 = methylation_count(SRR26,coords)\n",
    "    print(e4)\n",
    "    e5_5 = methylation_count(SRR29,coords)\n",
    "    if e4>0:\n",
    "        genes_mfold[gene] = (e5_5-e4)/e4\n",
    "        print(\"Gene: {}\\tFold change: {}\".format(gene,(e5_5-e4)/e4))\n",
    "#print(genes_mfold)"
   ]
  },
  {
   "cell_type": "code",
   "execution_count": null,
   "metadata": {},
   "outputs": [],
   "source": [
    "        "
   ]
  }
 ],
 "metadata": {
  "kernelspec": {
   "display_name": "Python 3",
   "language": "python",
   "name": "python3"
  },
  "language_info": {
   "codemirror_mode": {
    "name": "ipython",
    "version": 3
   },
   "file_extension": ".py",
   "mimetype": "text/x-python",
   "name": "python",
   "nbconvert_exporter": "python",
   "pygments_lexer": "ipython3",
   "version": "3.7.7"
  }
 },
 "nbformat": 4,
 "nbformat_minor": 4
}
