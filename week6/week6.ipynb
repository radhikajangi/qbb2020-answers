{
 "cells": [
  {
   "cell_type": "markdown",
   "metadata": {},
   "source": [
    "## Week 6: DNA Methylation\n",
    "### Radhika Jangi 10/16/2020"
   ]
  },
  {
   "cell_type": "markdown",
   "metadata": {},
   "source": [
    "### Bisulfite Mapping\n",
    "SRR3083926_1.chr6.fastq from STEM-seq E4.0ICM rep1<br/>\n",
    "SRR3083926_2.chr6.fastq from STEM-seq E4.0ICM rep1<br/>\n",
    "SRR3083929_1.chr6.fastq from STEM-seq E5.5Epi rep1<br/>\n",
    "SRR3083929_2.chr6.fastq from STEM-seq E5.5Epi rep1"
   ]
  },
  {
   "cell_type": "markdown",
   "metadata": {},
   "source": [
    "bismark_genome_preparation --bowtie2 chr6<br/>\n",
    "\n",
    "bismark --genome chr6/ -1 SRR3083926_1.chr6.fastq,SRR3083929_1.chr6.fastq -2 SRR3083926_2.chr6.fastq,SRR3083929_2.chr6.fastq<br/>\n",
    "\n",
    "samtools sort SRR3083926_1.chr6_bismark_bt2_pe.bam -o SRR26.sorted.bam<br/>\n",
    "samtools sort SRR3083929_1.chr6_bismark_bt2_pe.bam -o SRR29.sorted.bam<br/>\n",
    "\n",
    "samtools index SRR26.sorted.bam<br/>\n",
    "samtools index SRR29.sorted.bam<br/>\n",
    "\n",
    "bismark_methylation_extractor --bedgraph --comprehensive SRR3083926_1.chr6_bismark_bt2_pe.bam<br/>\n",
    "bismark_methylation_extractor --bedgraph --comprehensive SRR3083929_1.chr6_bismark_bt2_pe.bam"
   ]
  },
  {
   "cell_type": "markdown",
   "metadata": {},
   "source": [
    "### Python Scripting"
   ]
  },
  {
   "cell_type": "code",
   "execution_count": 69,
   "metadata": {},
   "outputs": [],
   "source": [
    "# Get bedgraph files\n",
    "f = open('SRR3083926_1.chr6_bismark_bt2_pe.bedGraph', 'r')\n",
    "SRR26 = f.readlines()\n",
    "SRR26 = SRR26[1:] # Skip header\n",
    "f.close()\n",
    "fs = open('SRR3083929_1.chr6_bismark_bt2_pe.bedGraph', 'r')\n",
    "SRR29 = fs.readlines()\n",
    "SRR29 = SRR29[1:] # Skip header\n",
    "fs.close()"
   ]
  },
  {
   "cell_type": "code",
   "execution_count": 70,
   "metadata": {},
   "outputs": [],
   "source": [
    "# Get gene and coordinate files\n",
    "f = open('mm10_refseq_genes_chr6_50M_60M.bed', 'r')\n",
    "refseq = f.readlines()\n",
    "f.close()"
   ]
  },
  {
   "cell_type": "code",
   "execution_count": 71,
   "metadata": {},
   "outputs": [],
   "source": [
    "# Keeps unique genes and their coordinates\n",
    "unique_genes = {}\n",
    "for line in refseq:\n",
    "    gene_coord = list(map(int,line.split()[4:6])) # Grabs gene coordinates from columns 5 and 6\n",
    "    gene_name = line.split()[12] # Grabs gene name from column 13\n",
    "    unique_genes.setdefault(gene_name,gene_coord)"
   ]
  },
  {
   "cell_type": "code",
   "execution_count": 72,
   "metadata": {},
   "outputs": [],
   "source": [
    "def methylation_count(srr, search_range):\n",
    "    '''Calculates average methylation score in a specified region\n",
    "    INPUT: \n",
    "        - srr: bedgraph data for specific embryonic cell type\n",
    "        - search_range: coordinates of specific gene within genome\n",
    "    OUTPUT:\n",
    "        - meth_score/count: average methylation score for a gene\n",
    "        - 0: if no methylation found on gene\n",
    "    '''\n",
    "    meth_score = 0 # Total methylation score\n",
    "    count = 0 # Counts number of non-zero methylation sites\n",
    "    for line in srr:\n",
    "        meth_range = list(map(int,line.split()[1:3])) # Gets location of nucleotide\n",
    "        score = float(line.split()[3]) # Gets methylation score at that site\n",
    "        if meth_range[1]>=search_range[0] and meth_range[1]<=search_range[1]: # Checks if nuc falls within gene range\n",
    "            meth_score+= score\n",
    "            count+=1\n",
    "    if count != 0:\n",
    "        return meth_score/count # Returns avg methylation for current gene\n",
    "    else:\n",
    "        return 0 # No methylation on this gene"
   ]
  },
  {
   "cell_type": "code",
   "execution_count": 73,
   "metadata": {},
   "outputs": [],
   "source": [
    "# Maps genes to fold change from e4 to e5.5\n",
    "f = open(\"foldchange.txt\", \"a\")\n",
    "fs = open(\"e4_avg_methylation.txt\", \"a\")\n",
    "fl = open(\"e5_5_avg_methylation.txt\", \"a\")\n",
    "\n",
    "# Loops through unique genes + coordinates and gets methylation\n",
    "# For both e4 and e5 on each gene\n",
    "for gene, coords in unique_genes.items():\n",
    "    e4 = methylation_count(SRR26,coords)\n",
    "    fs.write(gene+ \":\\t\"+str(e4))\n",
    "    fs.write('\\n')\n",
    "    \n",
    "    e5_5 = methylation_count(SRR29,coords)\n",
    "    fl.write(gene+ \":\\t\"+str(e5_5))\n",
    "    fl.write('\\n')\n",
    "    \n",
    "    if e4 !=0:\n",
    "    #if e5_5 !=0:\n",
    "        f.write(gene+ \":\\t\"+str((e5_5-e4)/e4)) # Calculate fold change\n",
    "        f.write('\\n')\n",
    "#         else:\n",
    "#             f.write(gene+ \":\\t\"+'-1.0')\n",
    "#             f.write('\\n')\n",
    "f.close()\n",
    "fs.close()\n",
    "fl.close()"
   ]
  }
 ],
 "metadata": {
  "kernelspec": {
   "display_name": "Python 3",
   "language": "python",
   "name": "python3"
  },
  "language_info": {
   "codemirror_mode": {
    "name": "ipython",
    "version": 3
   },
   "file_extension": ".py",
   "mimetype": "text/x-python",
   "name": "python",
   "nbconvert_exporter": "python",
   "pygments_lexer": "ipython3",
   "version": "3.7.7"
  }
 },
 "nbformat": 4,
 "nbformat_minor": 4
}
