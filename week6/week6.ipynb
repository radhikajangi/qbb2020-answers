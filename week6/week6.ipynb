{
 "cells": [
  {
   "cell_type": "markdown",
   "metadata": {},
   "source": [
    "## Week 6: DNA Methylation\n",
    "### Radhika Jangi 10/16/2020"
   ]
  },
  {
   "cell_type": "code",
   "execution_count": null,
   "metadata": {},
   "outputs": [],
   "source": []
  },
  {
   "cell_type": "markdown",
   "metadata": {},
   "source": [
    "### 1. Getting data\n",
    "SRR3083926_1.chr6.fastq from STEM-seq E4.0ICM rep1<br/>\n",
    "SRR3083926_2.chr6.fastq from STEM-seq E4.0ICM rep1<br/>\n",
    "SRR3083929_1.chr6.fastq from STEM-seq E5.5Epi rep1<br/>\n",
    "SRR3083929_2.chr6.fastq from STEM-seq E5.5Epi rep1"
   ]
  },
  {
   "cell_type": "markdown",
   "metadata": {},
   "source": [
    "bismark_genome_preparation --bowtie2 chr6<br/>\n",
    "\n",
    "bismark --genome chr6/ -1 SRR3083926_1.chr6.fastq,SRR3083929_1.chr6.fastq -2 SRR3083926_2.chr6.fastq,SRR3083929_2.chr6.fastq<br/>\n",
    "\n",
    "samtools sort SRR3083926_1.chr6_bismark_bt2_pe.bam -o SRR26.sorted.bam<br/>\n",
    "samtools sort SRR3083929_1.chr6_bismark_bt2_pe.bam -o SRR29.sorted.bam<br/>\n",
    "\n",
    "samtools index SRR26.sorted.bam<br/>\n",
    "samtools index SRR29.sorted.bam<br/>\n",
    "\n",
    "bismark_methylation_extractor --bedgraph --comprehensive SRR3083926_1.chr6_bismark_bt2_pe.bam<br/>\n",
    "bismark_methylation_extractor --bedgraph --comprehensive SRR3083929_1.chr6_bismark_bt2_pe.bam"
   ]
  },
  {
   "cell_type": "code",
   "execution_count": 22,
   "metadata": {},
   "outputs": [],
   "source": [
    "f = open('SRR3083926_1.chr6_bismark_bt2_pe.bedGraph', 'r')\n",
    "SRR26 = f.readlines()\n",
    "SRR26 = SRR26[1:]\n",
    "f.close()\n",
    "fs = open('SRR3083929_1.chr6_bismark_bt2_pe.bedGraph', 'r')\n",
    "SRR29 = fs.readlines()\n",
    "SRR29 = SRR29[1:]\n",
    "fs.close()"
   ]
  },
  {
   "cell_type": "code",
   "execution_count": 24,
   "metadata": {},
   "outputs": [],
   "source": [
    "f = open('mm10_refseq_genes_chr6_50M_60M.bed', 'r')\n",
    "refseq = f.readlines()\n",
    "f.close()"
   ]
  },
  {
   "cell_type": "code",
   "execution_count": 42,
   "metadata": {},
   "outputs": [],
   "source": [
    "# Keeps unique genes and their coordinates\n",
    "unique_genes = {}\n",
    "for line in refseq:\n",
    "    gene_coord = list(map(int,line.split()[5:7])) # Grabs gene coordinates from columns 5 and 6\n",
    "    gene_name = line.split()[12] # Grabs gene name from column 13\n",
    "    unique_genes.setdefault(gene_name,gene_coord)\n",
    "#     if gene_name not in unique_genes:\n",
    "#         unique_genes[gene_name] = gene_coord"
   ]
  },
  {
   "cell_type": "code",
   "execution_count": 43,
   "metadata": {},
   "outputs": [
    {
     "name": "stdout",
     "output_type": "stream",
     "text": [
      "115\n"
     ]
    }
   ],
   "source": [
    "print(len(unique_genes))"
   ]
  },
  {
   "cell_type": "code",
   "execution_count": 48,
   "metadata": {},
   "outputs": [],
   "source": [
    "def methylation_count(srr, search_range):\n",
    "    '''Calculates average methylation score in a specified region\n",
    "    INPUT: \n",
    "        - srr: bedgraph data for specific embryonic cell type\n",
    "        - search_range: coordinates of specific gene within genome\n",
    "    OUTPUT:\n",
    "        - meth_score/count: average methylation score for a gene\n",
    "        - 0: if no methylation found on gene\n",
    "    '''\n",
    "    meth_score = 0 # Total methylation score\n",
    "    count = 0 # Counts number of non-zero methylation sites\n",
    "    for line in srr:\n",
    "        meth_range = list(map(int,line.split()[1:3])) # Gets location of nucleotide\n",
    "        score = float(line.split()[3]) # Gets methylation score at that site\n",
    "        if meth_range[1]>=search_range[1] and meth_range[1]<=search_range[0]: # Checks if nuc falls within gene range\n",
    "            meth_score+= score\n",
    "            count+=1\n",
    "    if count != 0:\n",
    "        return meth_score/count\n",
    "    else:\n",
    "        return 0"
   ]
  },
  {
   "cell_type": "code",
   "execution_count": 59,
   "metadata": {},
   "outputs": [
    {
     "name": "stdout",
     "output_type": "stream",
     "text": [
      "{'Mpp6': 1.82170046254583, 'Dfna5': 3.0541991816405196, 'Osbpl3': 3.1545238303356444, 'Cycs': 27.51530612244897, '4921507P07Rik': 2.190640621972486, 'Npvf': 3.164835164835164, 'Nfe2l3': 2.4207464847441558, 'Hnrnpa2b1': 7.651479196329696, 'Cbx3': 3.916182988495173, 'Snx10': 3.515415453267093, 'Skap2': 1.8305249285330623, 'Hoxa3': 1.2286824375134617, 'Hoxa6': 12.333333333333306, 'Hoxa7': 0.3781250000000001, 'Hoxa9': 0.3858422939068102, 'Hoxa10': 0.3778579732609961, 'Hoxa11': -1.0, 'Hoxa13': 0.875, 'Evx1': -0.762396694214876, 'Hibadh': 1.7160588376653512, 'Tax1bp1': 1.3777291198509418, 'Jazf1': 1.9046040786157405, 'Creb5': 3.590647943184077, 'Tril': -1.0, 'Cpvl': 2.915324579296475, 'Chn2': 1.7562881807997404, 'Wipf3': 5.172231672480712, 'Scrn1': 5.147211791119173, 'Fkbp14': 2.2778068444220745, 'Plekha8': 2.5418391995075194, 'Mturn': 11.723113158790555, 'Znrf2': 3.93371270798042, 'Nod1': 3.9535689722423073, 'Ggct': 1.6787043851885985, 'Gars': 2.0046818048022534, 'Crhr2': 2.8459287757081624, 'Inmt': 2.7244897959183665, 'Fam188b': 1.6045439607085814, 'Aqp1': 4.081932773109244, 'Ghrhr': 5.280864197530865, 'Adcyap1r1': 1.6372331716742516, 'Neurod6': 3.55, 'Ccdc129': 3.299334699411768, 'Ppp1r17': 27.661858974358978, 'Pde1c': 1.4730024308414893, 'Lsm5': 2.730418943533698, 'Avl9': 1.4678855822038421, 'Kbtbd2': 6.767091033220065, 'Fkbp9': 2.3517680693341485, 'Nt5c3': 2.190728006024903, 'Vmn1r4': -0.11764705882352948, 'Vmn1r5': 0.5, 'Vmn1r7': -0.47959183673469374, 'Vmn1r8': 6.085714285714282, 'Vmn1r11': 0.4, 'Vmn1r13': -0.2222222222222223, 'Vmn1r14': -0.19444444444444442, 'Vmn1r15': 2.0, 'Ppm1k': 1.7466977724952413, 'Herc6': 2.020013688737602, 'Pyurf': -0.5224806201550387, 'Lancl2': 1.586524782071763, 'Vopp1': 3.889870004312817, 'Vmn1r27': 1.9999999999999996, 'Vmn1r29': 0.4999999999999999, 'Vmn1r30': 3.0, 'Abcg2': 3.8099017124826537, 'Herc3': 1.1860804877221318, 'Nap1l5': -0.031055900621117672, 'Fam13a': 3.5128042650185374, 'Tigd2': 0.6739130434782608, 'Gprin3': 4.780574131576448}\n"
     ]
    }
   ],
   "source": [
    "# Maps genes to fold change from e4 to e5.5\n",
    "f = open(\"foldchange.txt\", \"a\")\n",
    "fs = open(\"e4_avg_methylation.txt\", \"a\")\n",
    "fl = open(\"e5_5_avg_methylation.txt\", \"a\")\n",
    "\n",
    "for gene, coords in unique_genes.items():\n",
    "    e4 = methylation_count(SRR26,coords)\n",
    "    fs.write(gene+ \":\\t\"+str(e4))\n",
    "    fs.write('\\n')\n",
    "    \n",
    "    e5_5 = methylation_count(SRR29,coords)\n",
    "    fl.write(gene+ \":\\t\"+str(e5_5))\n",
    "    fl.write('\\n')\n",
    "    \n",
    "    if e4 is not None and e4 !=0:\n",
    "        if e5_5 is not None:\n",
    "            f.write(gene+ \":\\t\"+str((e5_5-e4)/e4))\n",
    "            f.write('\\n')\n",
    "        else:\n",
    "            f.write(gene+ \":\\t\"+'-1.0')\n",
    "            f.write('\\n')\n",
    "f.close()\n",
    "fs.close()\n",
    "fl.close()"
   ]
  }
 ],
 "metadata": {
  "kernelspec": {
   "display_name": "Python 3",
   "language": "python",
   "name": "python3"
  },
  "language_info": {
   "codemirror_mode": {
    "name": "ipython",
    "version": 3
   },
   "file_extension": ".py",
   "mimetype": "text/x-python",
   "name": "python",
   "nbconvert_exporter": "python",
   "pygments_lexer": "ipython3",
   "version": "3.7.7"
  }
 },
 "nbformat": 4,
 "nbformat_minor": 4
}
