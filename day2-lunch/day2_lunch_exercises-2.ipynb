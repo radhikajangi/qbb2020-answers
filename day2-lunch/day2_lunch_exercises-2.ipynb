{
 "cells": [
  {
   "cell_type": "markdown",
   "metadata": {},
   "source": [
    "# Day 2 - Lunch Exercise Part 2\n",
    "## Radhika Jangi 09/01/2020 - 09/02/2020"
   ]
  },
  {
   "cell_type": "code",
   "execution_count": 1,
   "metadata": {},
   "outputs": [],
   "source": [
    "# Function to replace FBgn in ctab file with AC from mapper file\n",
    "def id_map(f1,f2, ignore = 'pass\\n'): # ignore  = default behavior unless replaced with valid line\n",
    "    mapper = open(f1,'r')\n",
    "    ctab = open(f2,'r')\n",
    "    final_map = open('final_map.txt','w')\n",
    "    \n",
    "    header = ctab.readline()\n",
    "    head_split = header.split()\n",
    "    head_split[8] = 'uniprot_id'\n",
    "    final_header = '\\t'.join(map(str,head_split))\n",
    "\n",
    "    final_map.write(final_header+'\\n') # Make first row the header of ctab with gene ID replaced with AC/Uniprot ID\n",
    "    \n",
    "    fbgn_dict = {}\n",
    "    counter = 0\n",
    "    \n",
    "    for line in mapper:\n",
    "        l_split = line.split()\n",
    "        fbgn_dict[l_split[0]] = l_split[1] # fbgn_dict = {fbgn_n:ac_n}\n",
    "    \n",
    "    for line in ctab:\n",
    "        if counter == 100: # Only pull 100 valid lines\n",
    "                break\n",
    "        else:\n",
    "            if 'FBgn' in line:\n",
    "                l_split = line.split()\n",
    "                fbgn = l_split[8] # Pull the FBgn from the ctab line\n",
    "                if fbgn in fbgn_dict:\n",
    "                    l_split[8] = fbgn_dict[fbgn] # Replace FBgn in ctab with corresponding AC from fbgn_dict\n",
    "                    fixed_line = '\\t'.join(l_split) \n",
    "                    final_map.write(fixed_line+'\\n') # Write respliced line to file and \n",
    "                    counter+=1 # increment counter\n",
    "                else:\n",
    "                    final_map.write(ignore) # Skip this line b/c it the dictionary doesn't \n",
    "                                            #contain the FBgn we are interested in\n",
    "    mapper.close()\n",
    "    ctab.close()\n",
    "    final_map.close()"
   ]
  },
  {
   "cell_type": "code",
   "execution_count": 2,
   "metadata": {},
   "outputs": [],
   "source": [
    "# Call function on mapper and ctab files\n",
    "f1 = 'out_fly.txt'\n",
    "f2 = 't_data.ctab'\n",
    "id_map(f1,f2)"
   ]
  },
  {
   "cell_type": "code",
   "execution_count": 3,
   "metadata": {},
   "outputs": [
    {
     "name": "stdout",
     "output_type": "stream",
     "text": [
      "100\n"
     ]
    }
   ],
   "source": [
    "# Check to make sure 100 FBgns were replaced\n",
    "fh = open('final_map.txt', 'r')\n",
    "count = 0\n",
    "for line in fh:\n",
    "    if 'pass' not in line: # Only count filled lines\n",
    "        count+=1\n",
    "fh.close()\n",
    "print(count-1) # -1 for header line"
   ]
  }
 ],
 "metadata": {
  "kernelspec": {
   "display_name": "Python 3",
   "language": "python",
   "name": "python3"
  },
  "language_info": {
   "codemirror_mode": {
    "name": "ipython",
    "version": 3
   },
   "file_extension": ".py",
   "mimetype": "text/x-python",
   "name": "python",
   "nbconvert_exporter": "python",
   "pygments_lexer": "ipython3",
   "version": "3.6.10"
  }
 },
 "nbformat": 4,
 "nbformat_minor": 4
}
