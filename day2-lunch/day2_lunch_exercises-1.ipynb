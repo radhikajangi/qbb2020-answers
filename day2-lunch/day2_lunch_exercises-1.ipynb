{
 "cells": [
  {
   "cell_type": "code",
   "execution_count": 1,
   "metadata": {},
   "outputs": [
    {
     "data": {
      "text/plain": [
       "\"fs = open('fly.txt','r')\\n#data = []\\nfor line in fs:\\n    data.append(line.rstrip().split())\""
      ]
     },
     "execution_count": 1,
     "metadata": {},
     "output_type": "execute_result"
    }
   ],
   "source": [
    "'''fs = open('fly.txt','r')\n",
    "#data = []\n",
    "for line in fs:\n",
    "    data.append(line.rstrip().split())'''"
   ]
  },
  {
   "cell_type": "code",
   "execution_count": 2,
   "metadata": {},
   "outputs": [
    {
     "data": {
      "text/plain": [
       "\"lines_of_i = []\\ndrome = 'DROME'\\nfor line in data:\\n    if any(drome in string for string in line):\\n        lines_of_i.append(line)\""
      ]
     },
     "execution_count": 2,
     "metadata": {},
     "output_type": "execute_result"
    }
   ],
   "source": [
    "'''lines_of_i = []\n",
    "drome = 'DROME'\n",
    "for line in data:\n",
    "    if any(drome in string for string in line):\n",
    "        lines_of_i.append(line)'''\n"
   ]
  },
  {
   "cell_type": "code",
   "execution_count": 3,
   "metadata": {},
   "outputs": [
    {
     "data": {
      "text/plain": [
       "\"genes = {}\\nfor line in lines_of_i:\\n    if len(line)>3 and any('FBgn' in string for string in line):\\n        fgbn = line[3]\\n        genes[fgbn] = line[2]\""
      ]
     },
     "execution_count": 3,
     "metadata": {},
     "output_type": "execute_result"
    }
   ],
   "source": [
    "'''genes = {}\n",
    "for line in lines_of_i:\n",
    "    if len(line)>3 and any('FBgn' in string for string in line):\n",
    "        fgbn = line[3]\n",
    "        genes[fgbn] = line[2]'''"
   ]
  },
  {
   "cell_type": "code",
   "execution_count": 4,
   "metadata": {},
   "outputs": [],
   "source": [
    "'''f = open('fly.txt')\n",
    "f_out = open('out_fly.txt', 'w')\n",
    "#f_out.write('out_fly.txt')\n",
    "\n",
    "#drome = 'DROME'\n",
    "#FGbn = 'FGbn'\n",
    "for line in f:\n",
    "    fields = line.strip('\\r\\n').split()\n",
    "    if drome in line and FGbn in fields[-1]:\n",
    "        f_out.write('{}\\t{}\\n'.format(fields[-1], fields[-2]))\n",
    "\n",
    "f_out.close()'''\n",
    "\n",
    "f = open('fly.txt')\n",
    "f_out = open('out_fly.txt', 'w')\n",
    "for line in f:\n",
    "    fields = line.strip('\\r\\n').split()\n",
    "    if \"DROME\" in line and 'FBgn' in fields[-1]:\n",
    "        f_out.write('{}\\t{}\\n'.format(fields[-1], fields[-2]))\n",
    "f_out.close()\n",
    "f.close()"
   ]
  }
 ],
 "metadata": {
  "kernelspec": {
   "display_name": "Python 3",
   "language": "python",
   "name": "python3"
  },
  "language_info": {
   "codemirror_mode": {
    "name": "ipython",
    "version": 3
   },
   "file_extension": ".py",
   "mimetype": "text/x-python",
   "name": "python",
   "nbconvert_exporter": "python",
   "pygments_lexer": "ipython3",
   "version": "3.6.10"
  }
 },
 "nbformat": 4,
 "nbformat_minor": 4
}
