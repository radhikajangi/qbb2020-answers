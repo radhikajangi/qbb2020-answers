{
 "cells": [
  {
   "cell_type": "markdown",
   "metadata": {},
   "source": [
    "# Day 2 - Lunch Exercise Part 1\n",
    "## Radhika Jangi 09/01/2020 - 09/02/2020"
   ]
  },
  {
   "cell_type": "code",
   "execution_count": 1,
   "metadata": {},
   "outputs": [],
   "source": [
    "# Creates mapper file to be used with part 2\n",
    "f = open('fly.txt')\n",
    "f_out = open('out_fly.txt', 'w')\n",
    "for line in f:\n",
    "    fields = line.strip('\\r\\n').split()\n",
    "    if \"DROME\" in line and 'FBgn' in fields[-1]: # Only pull lines that contain DROME\n",
    "        f_out.write('{}\\t{}\\n'.format(fields[-1], fields[-2])) # Write with FBgn in col 1 and AC in col 2\n",
    "f_out.close()\n",
    "f.close()"
   ]
  }
 ],
 "metadata": {
  "kernelspec": {
   "display_name": "Python 3",
   "language": "python",
   "name": "python3"
  },
  "language_info": {
   "codemirror_mode": {
    "name": "ipython",
    "version": 3
   },
   "file_extension": ".py",
   "mimetype": "text/x-python",
   "name": "python",
   "nbconvert_exporter": "python",
   "pygments_lexer": "ipython3",
   "version": "3.6.10"
  }
 },
 "nbformat": 4,
 "nbformat_minor": 4
}
