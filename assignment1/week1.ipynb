{
 "cells": [
  {
   "cell_type": "markdown",
   "metadata": {},
   "source": [
    "# Quantitative Biology Lab - Week 1\n",
    "## Radhika Jangi"
   ]
  },
  {
   "cell_type": "markdown",
   "metadata": {},
   "source": [
    "## 1. Coverage Analysis"
   ]
  },
  {
   "cell_type": "markdown",
   "metadata": {},
   "source": [
    "### a. Genome length\n",
    "\n",
    ">samtools faidx ref.fa<br/>\n",
    ">cat ref.fa.fai\n",
    "   \n",
    "The genome is 233806 bases"
   ]
  },
  {
   "cell_type": "markdown",
   "metadata": {},
   "source": [
    "### b. Number/length of reads\n",
    "> fastqc\n",
    "\n",
    "Open each .fq file in FastQC\n",
    "\n",
    "frag180.1: 35178 sequences, 100 bp in length<br/>\n",
    "frag180.2: 35178 sequences, 100 bp in length<br/>\n",
    "jump2k.1: 70355 sequences, 50 bp in length<br/>\n",
    "jump2k.2: 70355 sequences, 50 bp in length"
   ]
  },
  {
   "cell_type": "markdown",
   "metadata": {},
   "source": [
    "### c. Coverage\n",
    "\n",
    "180.1: (35178*100)/233806 ~ 15X <br/>\n",
    "180.2: (35178*100)/233806 ~ 15X<br/>\n",
    "2k.1: (70355*50)/233806 ~ 15X<br/>\n",
    "2k.2: (70355*50)/233806 ~ 15X"
   ]
  },
  {
   "attachments": {},
   "cell_type": "markdown",
   "metadata": {},
   "source": [
    "### d. Average Quality Value Plot<br/>\n",
    "#### 180.1:\n",
    "![image](Users/cmdb/Desktop/180.1.png)\n",
    "#### 180.2:\n",
    "![image-2.png](Users/cmdb/Desktop/180.2.png)\n",
    "#### 2k.1:\n",
    "![image-3.png](Users/cmdb/Desktop/2k.1.png)\n",
    "#### 2k.2:\n",
    "![image-4.png](Users/cmdb/Desktop/2k.2.png)"
   ]
  },
  {
   "cell_type": "markdown",
   "metadata": {},
   "source": [
    "## 2. Kmer Analysis"
   ]
  },
  {
   "cell_type": "code",
   "execution_count": null,
   "metadata": {},
   "outputs": [],
   "source": []
  },
  {
   "cell_type": "markdown",
   "metadata": {},
   "source": [
    "## 3. De novo Assembly"
   ]
  },
  {
   "cell_type": "code",
   "execution_count": null,
   "metadata": {},
   "outputs": [],
   "source": []
  },
  {
   "cell_type": "markdown",
   "metadata": {},
   "source": [
    "## 4. Whole Genome Alignment"
   ]
  },
  {
   "cell_type": "code",
   "execution_count": null,
   "metadata": {},
   "outputs": [],
   "source": []
  },
  {
   "cell_type": "markdown",
   "metadata": {},
   "source": [
    "## 5. Decoding the Insertion"
   ]
  },
  {
   "cell_type": "code",
   "execution_count": null,
   "metadata": {},
   "outputs": [],
   "source": []
  },
  {
   "cell_type": "code",
   "execution_count": null,
   "metadata": {},
   "outputs": [],
   "source": []
  },
  {
   "cell_type": "code",
   "execution_count": null,
   "metadata": {},
   "outputs": [],
   "source": []
  }
 ],
 "metadata": {
  "kernelspec": {
   "display_name": "Python 3",
   "language": "python",
   "name": "python3"
  },
  "language_info": {
   "codemirror_mode": {
    "name": "ipython",
    "version": 3
   },
   "file_extension": ".py",
   "mimetype": "text/x-python",
   "name": "python",
   "nbconvert_exporter": "python",
   "pygments_lexer": "ipython3",
   "version": "3.8.5"
  }
 },
 "nbformat": 4,
 "nbformat_minor": 4
}
