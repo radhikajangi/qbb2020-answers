{
 "cells": [
  {
   "cell_type": "markdown",
   "metadata": {},
   "source": [
    "# Quantitative Biology Lab - Week 1\n",
    "## Radhika Jangi"
   ]
  },
  {
   "cell_type": "markdown",
   "metadata": {},
   "source": [
    "## 1. Coverage Analysis"
   ]
  },
  {
   "cell_type": "markdown",
   "metadata": {},
   "source": [
    "### a. Genome length\n",
    "\n",
    "> samtools faidx ref.fa<br/>\n",
    "> cat ref.fa.fai\n",
    "   \n",
    "The genome is 233806 bases"
   ]
  },
  {
   "cell_type": "markdown",
   "metadata": {},
   "source": [
    "### b. Number/length of reads\n",
    "> fastqc\n",
    "\n",
    "Open each .fq file in FastQC\n",
    "\n",
    "frag180.1: 35178 sequences, 100 bp in length<br/>\n",
    "frag180.2: 35178 sequences, 100 bp in length<br/>\n",
    "jump2k.1: 70355 sequences, 50 bp in length<br/>\n",
    "jump2k.2: 70355 sequences, 50 bp in length"
   ]
  },
  {
   "cell_type": "markdown",
   "metadata": {},
   "source": [
    "### c. Coverage\n",
    "\n",
    "180.1: (35178 * 100)/233806 ~ 15X <br/>\n",
    "180.2: (35178 * 100)/233806 ~ 15X<br/>\n",
    "2k.1: (70355 * 50)/233806 ~ 15X<br/>\n",
    "2k.2: (70355 * 50)/233806 ~ 15X\n",
    "\n",
    "Total coverage ~ 60X"
   ]
  },
  {
   "cell_type": "markdown",
   "metadata": {},
   "source": [
    "### d. Average Quality Value Plot<br/>\n",
    "Plot images are in assignment1 directory"
   ]
  },
  {
   "cell_type": "markdown",
   "metadata": {},
   "source": [
    "## 2. Kmer Analysis"
   ]
  },
  {
   "cell_type": "markdown",
   "metadata": {},
   "source": [
    "#### a. Histogram<br/>\n",
    "> jellyfish count -m 21 -C -s 1000000 /Users/cmdb/qbb2020-answers/assignment1/*.fq <br/>\n",
    "> jellyfish histo mer_counts.jf > reads.histo <br/>\n",
    "\n",
    "Exactly 1091 kmers show up in the 50 bin"
   ]
  },
  {
   "cell_type": "markdown",
   "metadata": {},
   "source": [
    "#### b. Top 10 Kmers<br/>\n",
    "> jellyfish dump -c -t mer_counts.jf > mer_counts_dumps.fa<br/>\n",
    "\n",
    "> sort -k 2 -r -n  mer_counts_dumps.fa | head -n 10\n",
    "\n",
    "GCCCACTAATTAGTGGGCGCC\t105<br/>\n",
    "CGCCCACTAATTAGTGGGCGC\t104<br/>\n",
    "CCCACTAATTAGTGGGCGCCG\t104<br/>\n",
    "ACGGCGCCCACTAATTAGTGG\t101<br/>\n",
    "CAGGCCAGCTTATAAGCTGGC\t98<br/>\n",
    "AACAGGCCAGCTTATAAGCTG\t98<br/>\n",
    "ACAGGCCAGCTTATAAGCTGG\t97<br/>\n",
    "AGGCCAGCTTATAAGCTGGCC\t95<br/>\n",
    "AGCATCGCCCACATGTGGGCG\t83<br/>\n",
    "GCATCGCCCACATGTGGGCGA\t82"
   ]
  },
  {
   "cell_type": "markdown",
   "metadata": {},
   "source": [
    "#### c. Estimated Genome Size<br/>\n",
    "Genome Haploid Length<br/>        \n",
    "Min: 233,468 bp   Max: 233,805 bp"
   ]
  },
  {
   "cell_type": "markdown",
   "metadata": {},
   "source": [
    "#### d. Size Estimate<br/>\n",
    "The sizes are very close, but GenomeScope's max estimate is 1 base under the value reported by Samtools. The software's calculation is based off of the histogram versus Samtools, which counts each base in the reference file itself."
   ]
  },
  {
   "cell_type": "markdown",
   "metadata": {},
   "source": [
    "## 3. De novo Assembly"
   ]
  },
  {
   "cell_type": "markdown",
   "metadata": {},
   "source": [
    "#### a. Contig number\n",
    "> spades.py --pe1-1 frag180.1.fq --pe1-2 frag180.2.fq --mp1-1 jump2k.1.fq --mp1-2 jump2k.2.fq -o asm -t 4 -k 31<br/>\n",
    "> grep -c '>' contigs.fasta<br/>\n",
    "\n",
    "Four contigs were produced"
   ]
  },
  {
   "cell_type": "markdown",
   "metadata": {},
   "source": [
    "#### b. Total contig length\n",
    "> samtools faidx contigs.fasta | sort -n"
   ]
  },
  {
   "cell_type": "code",
   "execution_count": 1,
   "metadata": {},
   "outputs": [
    {
     "name": "stdout",
     "output_type": "stream",
     "text": [
      "Total contig length is 234467\n"
     ]
    }
   ],
   "source": [
    "f = open('/Users/cmdb/qbb2020-answers/assignment1/asm/contigs.fasta.fai', 'r')\n",
    "contigs = f.readlines()\n",
    "f.close()\n",
    "contig_len = 0\n",
    "for line in contigs:\n",
    "    strip_line = line.strip().split(\"\\t\")\n",
    "    #print(strip_line)\n",
    "    next_con = int(strip_line[1])\n",
    "    contig_len+=next_con\n",
    "print(\"Total contig length is {}\".format(contig_len))"
   ]
  },
  {
   "cell_type": "markdown",
   "metadata": {},
   "source": [
    "#### c. Contig Length\n",
    "> samtools faidx contigs.fasta | sort -n\n",
    "> less -S contigs.fasta.fai\n",
    "\n",
    "Node 1 is the longest at 105831 bases"
   ]
  },
  {
   "cell_type": "markdown",
   "metadata": {},
   "source": [
    "#### d. Contig N50 size\n",
    "Write a script to sum contigs until half of total contig sum is covered"
   ]
  },
  {
   "cell_type": "code",
   "execution_count": 2,
   "metadata": {},
   "outputs": [
    {
     "name": "stdout",
     "output_type": "stream",
     "text": [
      "The N50 is 47861\n"
     ]
    }
   ],
   "source": [
    "f = open('/Users/cmdb/qbb2020-answers/assignment1/asm/contigs.fasta.fai', 'r')\n",
    "contigs = f.readlines()\n",
    "f.close()\n",
    "\n",
    "half_total_contig = 234467/2\n",
    "n50 = 0\n",
    "node_count = 0\n",
    "while n50 < half_total_contig:\n",
    "    strip_line = contigs[node_count].strip().split(\"\\t\")\n",
    "    next_con_len = int(strip_line[1])\n",
    "    n50+= next_con_len\n",
    "    node_count+=1\n",
    "print(\"The N50 is {}\".format(strip_line[1]))"
   ]
  },
  {
   "cell_type": "markdown",
   "metadata": {},
   "source": [
    "## 4. Whole Genome Alignment"
   ]
  },
  {
   "cell_type": "markdown",
   "metadata": {},
   "source": [
    "#### a. Average Identity\n",
    "> dnadiff /Users/cmdb/qbb2020-answers/assignment1/ref.fa /Users/cmdb/qbb2020-answers/assignment1/asm/contigs.fasta<br/>\n",
    "\n",
    "The alignments average identity is 100%. This makes sense because the total coverage is 60X"
   ]
  },
  {
   "cell_type": "markdown",
   "metadata": {},
   "source": [
    "#### b. Longest alignment\n",
    "> mkdir nucmerdir, cd nucmerdir<br/>\n",
    "> nucmer /Users/cmdb/qbb2020-answers/assignment1/ref.fa /Users/cmdb/qbb2020-answers/assignment1/asm/contigs.fasta<br/>\n",
    "> show-coords out.delta<br/>\n",
    "\n",
    "105831 bases is the longest alignment length."
   ]
  },
  {
   "cell_type": "markdown",
   "metadata": {},
   "source": [
    "#### c. Insertions and Deletions\n",
    "> cd ..<br/>\n",
    "> cat out.report<br/>\n",
    "\n",
    "There are 5 deletions and 1 insertion in the query."
   ]
  },
  {
   "cell_type": "markdown",
   "metadata": {},
   "source": [
    "## 5. Decoding the Insertion"
   ]
  },
  {
   "cell_type": "markdown",
   "metadata": {},
   "source": [
    "#### a. Where's the insertion?\n",
    "Looking at show-coords output, we can see a missing region in Node 3. 13854 - 14565 is the insertion"
   ]
  },
  {
   "cell_type": "markdown",
   "metadata": {},
   "source": [
    "#### b. How long?\n",
    "712 bp"
   ]
  },
  {
   "cell_type": "markdown",
   "metadata": {},
   "source": [
    "#### c. Sequence extraction\n",
    "> samtools faidx /Users/cmdb/qbb2020-answers/assignment1/asm/contigs.fasta NODE_3_length_41352_cov_20.588756:13854-14565<br/>\n",
    "\n",
    "\\>NODE_3_length_41352_cov_20.588756:13854-14565\n",
    "TAACGATTTACATCGGGAAAGCTTAATGCAATTCACGCAGATATTCAGCTTAGAAGGTAC\n",
    "GCAGCGGTGACGGGGTGCGGTCCATAATCTATGAAGCTATGAATTCGTACCTCAAGTAAT\n",
    "GTTTTCTTCGCTGCAGTTCAGAAGTGATAAAGGTATCCCGCTTAGCCTGGCATACTTTGT\n",
    "GCGTTCGTACCGCCCAGCATTAATGACTTGTGTAGGCAAGTAATGAACGACTCTTCTACG\n",
    "CCGCGCCTAACCTCCGCACATAATGGCAGCATGTGGTAGTTACATACGCACAGAAGTGGT\n",
    "TCGGTTTTAACTATAGTCAGATATGAATAAGCTGCGTGTGTCGTTGTGTCGGCGTGTCGT\n",
    "ACTTACCTCCTGACATAGGTGAATTTCAGCCTACTGTAAGTTTGGAGTCGCGCTCTTTTC\n",
    "TTATTATATTCTTTGGTATGTGTGTGATGGGTTCGGGCGTGTATTGATGTCTCTAAGGCT\n",
    "CATGTTAGTGTTTATTTGGTCAGTTATGACGGTGTTCCTGTCGTACGTGTTGGCTTAGCG\n",
    "GACTTGTAGACGGGATCAAGGTTGTCTGACCCTCCGGTCGACCGTGGGTCGGCCGTCCCG\n",
    "GCCAGAATACAAGCCGCTTAGACTTTCGAAAGAGGGTAAGTTACTACGCGCGAACGTTAT\n",
    "ACCTCGTTTCAGTATGCACTCCCTTAAGTCACTCAGAAAAGACTAAGGGGCT\n"
   ]
  },
  {
   "cell_type": "markdown",
   "metadata": {},
   "source": [
    "#### d. Decoded message\n",
    "> chmod +x ported_decoder.py<br/>\n",
    "> ./ported_decoder.py -d --rev_comp --input insertion.txt\n",
    "\n",
    "The decoded message :  Congratulations to the 2020 CMDB @ JHU class!  Keep on looking for little green aliens..."
   ]
  }
 ],
 "metadata": {
  "kernelspec": {
   "display_name": "Python 3",
   "language": "python",
   "name": "python3"
  },
  "language_info": {
   "codemirror_mode": {
    "name": "ipython",
    "version": 3
   },
   "file_extension": ".py",
   "mimetype": "text/x-python",
   "name": "python",
   "nbconvert_exporter": "python",
   "pygments_lexer": "ipython3",
   "version": "3.8.5"
  }
 },
 "nbformat": 4,
 "nbformat_minor": 4
}
