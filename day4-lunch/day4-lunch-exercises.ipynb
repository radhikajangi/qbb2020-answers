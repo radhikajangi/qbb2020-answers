{
 "cells": [
  {
   "cell_type": "code",
   "execution_count": 1,
   "metadata": {},
   "outputs": [],
   "source": [
    "# Used grep \"3R\" to remove header and non 3R reads and piped to 'chr3R.gtf'\n",
    "fs = open('chr3R.gtf', 'r')\n",
    "genome = fs.readlines()\n",
    "fs.close()"
   ]
  },
  {
   "cell_type": "code",
   "execution_count": 2,
   "metadata": {},
   "outputs": [],
   "source": [
    "# Formulates list of lists through which to search\n",
    "gene_list = []\n",
    "list_size = 0\n",
    "for line in genome:\n",
    "    line_split = line.split('\\t')\n",
    "    if 'gene' in line_split[2] and 'protein_coding' in line_split[8]: # Keep lines that refer to gene only\n",
    "        new_list = [line_split[3], line_split[4], line_split[-1]] # Keep relevant columns\n",
    "        gene_list.append(new_list) # Append \n",
    "        list_size+=1"
   ]
  },
  {
   "cell_type": "code",
   "execution_count": 3,
   "metadata": {},
   "outputs": [],
   "source": [
    "# Pulls out FBgn from string in last column of gene_list and formats it nicely\n",
    "def pull_gene(middle):\n",
    "    return(gene_list[middle][2].rstrip().split(';')[0].split()[1].strip('\\\"'))"
   ]
  },
  {
   "cell_type": "code",
   "execution_count": 4,
   "metadata": {},
   "outputs": [
    {
     "name": "stdout",
     "output_type": "stream",
     "text": [
      "gene: FBgn0004110\n",
      " distance: 27\n",
      " tally: 12\n"
     ]
    }
   ],
   "source": [
    "search_term = 21378950\n",
    "success = False\n",
    "tally = 0\n",
    "\n",
    "low = 0\n",
    "high = len(gene_list)-1\n",
    "middle = int((high+low)/2)\n",
    "previous_mid = 0\n",
    "\n",
    "# Binary search\n",
    "while not success: # Keeps searching until success condition is met aka closest gene is found\n",
    "    tally+=1\n",
    "\n",
    "    if int(gene_list[middle][1]) < search_term:\n",
    "        low = middle+1\n",
    "\n",
    "    else:\n",
    "        high = middle\n",
    "\n",
    "    previous_mid = middle\n",
    "    middle = int((high+low)/2)\n",
    "\n",
    "    if middle == previous_mid:\n",
    "        success = True\n",
    "\n",
    "distance = abs(search_term - int(gene_list[middle][0]))\n",
    "gene_name = pull_gene(middle)\n",
    "print(\"gene: {}\\n distance: {}\\n tally: {}\".format(gene_name, distance, tally))    "
   ]
  }
 ],
 "metadata": {
  "kernelspec": {
   "display_name": "Python 3",
   "language": "python",
   "name": "python3"
  },
  "language_info": {
   "codemirror_mode": {
    "name": "ipython",
    "version": 3
   },
   "file_extension": ".py",
   "mimetype": "text/x-python",
   "name": "python",
   "nbconvert_exporter": "python",
   "pygments_lexer": "ipython3",
   "version": "3.6.10"
  }
 },
 "nbformat": 4,
 "nbformat_minor": 4
}
