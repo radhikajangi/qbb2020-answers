{
 "cells": [
  {
   "cell_type": "code",
   "execution_count": 15,
   "metadata": {},
   "outputs": [
    {
     "name": "stdout",
     "output_type": "stream",
     "text": [
      "6\n"
     ]
    }
   ],
   "source": [
    "#__method__: reserved for special classes\n",
    "\n",
    "class Rect(object):\n",
    "    mood = 'Good' #These fields shouldn't be changed\n",
    "                    #If you want \n",
    "    \n",
    "    def __init__(self, height=1, width=1): #default values given\n",
    "        self.height = height\n",
    "        self.width = width\n",
    "        \n",
    "    def get_area(self):\n",
    "        return self.height*self.width\n",
    "    \n",
    "    def __str__(self): #Redefines print\n",
    "        return \"My class! {} {}\".format(self.height, self.width)\n",
    "    \n",
    "    def __len__(self):\n",
    "        return 1\n",
    "    \n",
    "    \n",
    "\n"
   ]
  },
  {
   "cell_type": "code",
   "execution_count": 28,
   "metadata": {},
   "outputs": [],
   "source": [
    "class FileReader(object):\n",
    "    def __init__(self, fname):\n",
    "        self.fname = fname\n",
    "        self.filehandle = open(fname,'r')\n",
    "        self.reset = False\n",
    "        \n",
    "    def __iter__(self): #Creates iterator for our object\n",
    "        if self.reset:\n",
    "            self.filehandle.seek(0)\n",
    "            self.reset = False\n",
    "        return self\n",
    "    \n",
    "    def __next__(self): #Every time iterator is called,#so is this function\n",
    "        line = self.filehandle.readline()\n",
    "        if line =='':\n",
    "            self.reset = True\n",
    "            raise StopIteration\n",
    "        return line\n",
    "    def reset_file(self):\n",
    "        self.reset = True\n",
    "        \n",
    "    def __del__(self):\n",
    "        self.filehandle.close()"
   ]
  },
  {
   "cell_type": "code",
   "execution_count": 29,
   "metadata": {},
   "outputs": [
    {
     "name": "stdout",
     "output_type": "stream",
     "text": [
      "one\n",
      "two\n",
      "one\n",
      "two\n",
      "three\n",
      "four\n",
      "five"
     ]
    }
   ],
   "source": [
    "fr = FileReader('test.txt')\n",
    "for i,line in enumerate(fr):\n",
    "    print(line, end='')\n",
    "    if i==1:\n",
    "        break\n",
    "        \n",
    "fr.reset_file()\n",
    "\n",
    "for line in fr:\n",
    "    print(line,end='')\n",
    "    \n",
    "del fr # or fr.__del__()"
   ]
  },
  {
   "cell_type": "code",
   "execution_count": null,
   "metadata": {},
   "outputs": [],
   "source": [
    "rect = Rect(2,3)\n",
    "print(rect.get_area())"
   ]
  },
  {
   "cell_type": "code",
   "execution_count": 4,
   "metadata": {},
   "outputs": [
    {
     "data": {
      "text/plain": [
       "array([0., 0., 0.])"
      ]
     },
     "execution_count": 4,
     "metadata": {},
     "output_type": "execute_result"
    }
   ],
   "source": [
    "import numpy as np\n",
    "\n",
    "matrix = np.zeros(3)\n",
    "matrix.transpose()"
   ]
  },
  {
   "cell_type": "code",
   "execution_count": 5,
   "metadata": {},
   "outputs": [
    {
     "data": {
      "text/plain": [
       "(3,)"
      ]
     },
     "execution_count": 5,
     "metadata": {},
     "output_type": "execute_result"
    }
   ],
   "source": [
    "matrix.shape"
   ]
  },
  {
   "cell_type": "code",
   "execution_count": 9,
   "metadata": {},
   "outputs": [
    {
     "name": "stdout",
     "output_type": "stream",
     "text": [
      "My class! 2 3\n"
     ]
    }
   ],
   "source": [
    "print(rect)"
   ]
  },
  {
   "cell_type": "code",
   "execution_count": 10,
   "metadata": {},
   "outputs": [
    {
     "name": "stdout",
     "output_type": "stream",
     "text": [
      "3\n"
     ]
    }
   ],
   "source": [
    "rect.height = 1\n",
    "print(rect.get_area())"
   ]
  },
  {
   "cell_type": "code",
   "execution_count": 11,
   "metadata": {},
   "outputs": [
    {
     "name": "stdout",
     "output_type": "stream",
     "text": [
      "6\n"
     ]
    }
   ],
   "source": [
    "rect2 = Rect(2,3)\n",
    "print(rect2.get_area())"
   ]
  },
  {
   "cell_type": "code",
   "execution_count": 14,
   "metadata": {},
   "outputs": [
    {
     "name": "stdout",
     "output_type": "stream",
     "text": [
      "Good\n"
     ]
    }
   ],
   "source": [
    "print(rect.mood)"
   ]
  },
  {
   "cell_type": "code",
   "execution_count": 16,
   "metadata": {},
   "outputs": [
    {
     "name": "stdout",
     "output_type": "stream",
     "text": [
      "1\n"
     ]
    }
   ],
   "source": [
    "print(len(rect))"
   ]
  },
  {
   "cell_type": "code",
   "execution_count": 39,
   "metadata": {},
   "outputs": [],
   "source": [
    "class ctabReader(object):\n",
    "    \n",
    "    def __init__(self, fname):\n",
    "        self.fname = fname\n",
    "        self.fh = open(self.fname, 'r')\n",
    "        self.reset_file = False\n",
    "        self.skip_header()\n",
    "    \n",
    "    def __iter__(self):\n",
    "        if self.reset_file:\n",
    "            self.fh.seek(0)\n",
    "            self.skip_header()\n",
    "        self.line = self.fh.readline()\n",
    "        return self\n",
    "    \n",
    "    def skip_header(self):\n",
    "        self.fh.readline()\n",
    "        self.line = self.fh.readline()\n",
    "        \n",
    "    def __next__(self):\n",
    "        if not self.line:\n",
    "            self.reset_file = True\n",
    "            raise StopIteration\n",
    "        fields = self.line.rstrip('\\n\\r').split('\\t')\n",
    "        gene = fields[-3]\n",
    "        transcripts = [self.line.rstrip('\\n\\r')]\n",
    "        line = self.fh.readline()\n",
    "        fields = line.rstrip('\\n\\r').split('\\t')\n",
    "        while len(fields) > 2 and fields[-2] == gene:\n",
    "            transcripts.append(line.rstrip('\\n\\r'))\n",
    "            line = self.fh.readline()\n",
    "            fields = line.rstrip('\\n\\r').split('\\t')\n",
    "        self.line = line\n",
    "        return (gene, transcripts)"
   ]
  },
  {
   "cell_type": "code",
   "execution_count": 40,
   "metadata": {},
   "outputs": [
    {
     "name": "stdout",
     "output_type": "stream",
     "text": [
      "('CR41571', ['1\\t3R\\t-\\t722370\\t722621\\tFBtr0114258\\t1\\t252\\tFBgn0085804\\tCR41571\\t0.000000\\t0.000000'])\n"
     ]
    }
   ],
   "source": [
    "cr = ctabReader('/Users/cmdb/qbb2020/data/t_data.ctab')\n",
    "genes = {}\n",
    "'''for g, t in cr:\n",
    "    genes[g] = t\n",
    "\n",
    "for k, v in genes.items():\n",
    "    print(\"{}\\n\\t{}\".format(k, '\\n'.join(v)))'''\n",
    "print(next(cr))"
   ]
  },
  {
   "cell_type": "code",
   "execution_count": null,
   "metadata": {},
   "outputs": [],
   "source": []
  }
 ],
 "metadata": {
  "kernelspec": {
   "display_name": "Python 3",
   "language": "python",
   "name": "python3"
  },
  "language_info": {
   "codemirror_mode": {
    "name": "ipython",
    "version": 3
   },
   "file_extension": ".py",
   "mimetype": "text/x-python",
   "name": "python",
   "nbconvert_exporter": "python",
   "pygments_lexer": "ipython3",
   "version": "3.6.10"
  }
 },
 "nbformat": 4,
 "nbformat_minor": 4
}
