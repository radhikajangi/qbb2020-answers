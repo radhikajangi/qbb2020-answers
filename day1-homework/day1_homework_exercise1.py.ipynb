{
 "cells": [
  {
   "cell_type": "markdown",
   "metadata": {},
   "source": [
    "# Day 1 Homework - Parsing a SAM File\n",
    "## Radhika Jangi 08/31/2020"
   ]
  },
  {
   "cell_type": "markdown",
   "metadata": {},
   "source": [
    "### Open the file in the notebook"
   ]
  },
  {
   "cell_type": "code",
   "execution_count": 1,
   "metadata": {},
   "outputs": [],
   "source": [
    "f = open('../../data/results/SRR072893.sam', 'r')"
   ]
  },
  {
   "cell_type": "markdown",
   "metadata": {},
   "source": [
    "### Here we can look at the first 5 lines of the file to get an understanding of what a SAM file looks like"
   ]
  },
  {
   "cell_type": "code",
   "execution_count": 2,
   "metadata": {},
   "outputs": [
    {
     "name": "stdout",
     "output_type": "stream",
     "text": [
      "SRR072893.1692271\t0\t2L\t7583\t60\t40M\t*\t0\t0\tAGAGAACCCACGTTTGAACAAGTATCGGCGTGTGGACAAC\t<9799:>A>?:?:?>A?>><1;297-00+/C@@C8/>@49\tAS:i:0\tXN:i:0\tXM:i:0\tXO:i:0\tXG:i:0\tNM:i:0\tMD:Z:40\tYT:Z:UU\tNH:i:1\n",
      "\n",
      "SRR072893.7719878\t0\t2L\t7583\t60\t40M\t*\t0\t0\tAGAGAACCCACGTTTGAACAAGTATCGGCGTGTGGACAAC\tCCCCCCCCCCCCCCCCCCCCCCDBCCCCCCCCCCCDCCCC\tAS:i:0\tXN:i:0\tXM:i:0\tXO:i:0\tXG:i:0\tNM:i:0\tMD:Z:40\tYT:Z:UU\tNH:i:1\n",
      "\n",
      "SRR072893.246931\t16\t2L\t8508\t60\t40M\t*\t0\t0\tGAAGAAAGTGACCAAGCTCATTCCGTTAACAGAGGAGCAC\tCCDCCCDBCCCCCCCCC@CCCCCCCCCCCCCCCCCCCCCC\tAS:i:0\tXN:i:0\tXM:i:0\tXO:i:0\tXG:i:0\tNM:i:0\tMD:Z:40\tYT:Z:UU\tNH:i:1\n",
      "\n",
      "SRR072893.17706329\t256\t2L\t8878\t1\t40M\t*\t0\t0\tCGCTGGACTCGCAAAGTGGACTTGTTCAGCAAGGACATAA\tCCCCCCCCCCCCCCCCCCCCCCCCCCCCCCCBCCCCCCCC\tAS:i:0\tZS:i:0\tXN:i:0\tXM:i:0\tXO:i:0\tXG:i:0\tNM:i:0\tMD:Z:40\tYT:Z:UU\tNH:i:2\n",
      "\n",
      "SRR072893.5095623\t256\t2L\t8879\t1\t40M\t*\t0\t0\tGCTGGACTCGCAAAGTGGACTTGTTCAGCAAGGACATAAT\tCCCCBCCCCCCCCCCCCCCCCCCCCCCCCCCCCBCCCCCC\tAS:i:0\tZS:i:0\tXN:i:0\tXM:i:0\tXO:i:0\tXG:i:0\tNM:i:0\tMD:Z:40\tYT:Z:UU\tNH:i:2\n",
      "\n"
     ]
    }
   ],
   "source": [
    "for i in range(5):\n",
    "    l = f.readline()\n",
    "    print(l)"
   ]
  },
  {
   "cell_type": "markdown",
   "metadata": {},
   "source": [
    "## Question 1: Count number of alignments"
   ]
  },
  {
   "cell_type": "code",
   "execution_count": 3,
   "metadata": {},
   "outputs": [
    {
     "name": "stdout",
     "output_type": "stream",
     "text": [
      "The total number of alignments is 2000000\n"
     ]
    }
   ],
   "source": [
    "#Number of alignments\n",
    "f.seek(0)\n",
    "counter1 = 0 \n",
    "for line in f:\n",
    "    counter1+=1\n",
    "print(\"The total number of alignments is {}\".format(counter1))"
   ]
  },
  {
   "cell_type": "markdown",
   "metadata": {},
   "source": [
    "## Question 2: Count number of alignments that match perfectly to the genome"
   ]
  },
  {
   "cell_type": "code",
   "execution_count": 4,
   "metadata": {},
   "outputs": [
    {
     "name": "stdout",
     "output_type": "stream",
     "text": [
      "The number of perfect matches is 1702765\n"
     ]
    }
   ],
   "source": [
    "#Number of perfect matches: edit distance = 0\n",
    "f.seek(0)\n",
    "counter2 = 0 \n",
    "substring = 'NM:i:0' #This phrase indicates there is 0 distance between the sequence and genome = perfect match\n",
    "for line in f:\n",
    "    if substring in line: #Checks if the keyword exists in each alignment\n",
    "        counter2+=1\n",
    "print(\"The number of perfect matches is {}\".format(counter2))"
   ]
  },
  {
   "cell_type": "markdown",
   "metadata": {},
   "source": [
    "## Question 3: Print chromosome columns for first 10 alignments"
   ]
  },
  {
   "cell_type": "code",
   "execution_count": 5,
   "metadata": {},
   "outputs": [
    {
     "name": "stdout",
     "output_type": "stream",
     "text": [
      "Alignment 1: 2L\n",
      "Alignment 2: 2L\n",
      "Alignment 3: 2L\n",
      "Alignment 4: 2L\n",
      "Alignment 5: 2L\n",
      "Alignment 6: 2L\n",
      "Alignment 7: 2L\n",
      "Alignment 8: 2L\n",
      "Alignment 9: 2L\n",
      "Alignment 10: 2L\n"
     ]
    }
   ],
   "source": [
    "f.seek(0)\n",
    "alignment_count = 0\n",
    "#First 10 chr\n",
    "for i in range(10):\n",
    "    l = f.readline()\n",
    "    read_list = l.split('\\t') #Splits line into list of strings based on tab as separator\n",
    "    alignment_count+=1\n",
    "    print(\"Alignment {0}: {1}\".format(alignment_count, read_list[2])) #Take element at index 2 (chromosome)"
   ]
  },
  {
   "cell_type": "markdown",
   "metadata": {},
   "source": [
    "## Question 4: Calculate average MAPQ score across all reads"
   ]
  },
  {
   "cell_type": "code",
   "execution_count": 6,
   "metadata": {},
   "outputs": [
    {
     "name": "stdout",
     "output_type": "stream",
     "text": [
      "The average MAPQ score is 59.6407825\n"
     ]
    }
   ],
   "source": [
    "#Avg MAPQ score\n",
    "f.seek(0)\n",
    "total_mapq = 0\n",
    "for line in f:\n",
    "    read_list = line.split('\\t')\n",
    "    total_mapq += int(read_list[4]) #Isolate MAPQ score per line, convert string to int, and increment total score\n",
    "print(\"The average MAPQ score is {}\".format(total_mapq/counter1)) #Avg = (total score sum)/(total alignment count)"
   ]
  },
  {
   "cell_type": "markdown",
   "metadata": {},
   "source": [
    "## Question 5: Chromosome 2L between base 10000 and 20000 (inclusive)"
   ]
  },
  {
   "cell_type": "code",
   "execution_count": 7,
   "metadata": {},
   "outputs": [
    {
     "name": "stdout",
     "output_type": "stream",
     "text": [
      "The number of alignments on chromosome 2L that start between and including 10k-20kb is 7550\n"
     ]
    }
   ],
   "source": [
    "#2L 10000-20000\n",
    "f.seek(0)\n",
    "sub1 = '2L'\n",
    "counter3 = 0\n",
    "for line in f:\n",
    "    if sub1 in line: # Identifies alignments on chr 2L\n",
    "        read_list = line.split('\\t')\n",
    "        if int(read_list[3]) >= 10000 and int(read_list[3])<=20000: # Checks if base starts between + including 10k-20k\n",
    "            counter3+=1\n",
    "print(\"The number of alignments on chromosome 2L that start between and including 10k-20kb is {}\".format(counter3))"
   ]
  },
  {
   "cell_type": "code",
   "execution_count": 8,
   "metadata": {},
   "outputs": [],
   "source": [
    "f.close()"
   ]
  }
 ],
 "metadata": {
  "kernelspec": {
   "display_name": "Python 3",
   "language": "python",
   "name": "python3"
  },
  "language_info": {
   "codemirror_mode": {
    "name": "ipython",
    "version": 3
   },
   "file_extension": ".py",
   "mimetype": "text/x-python",
   "name": "python",
   "nbconvert_exporter": "python",
   "pygments_lexer": "ipython3",
   "version": "3.6.10"
  }
 },
 "nbformat": 4,
 "nbformat_minor": 4
}
